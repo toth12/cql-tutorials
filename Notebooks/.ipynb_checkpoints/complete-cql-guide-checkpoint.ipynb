{
 "cells": [
  {
   "cell_type": "markdown",
   "metadata": {},
   "source": [
    "# Extended CQL tutorial for *LTS*"
   ]
  },
  {
   "cell_type": "markdown",
   "metadata": {},
   "source": [
    "The goal of this tutorial is to introduce users of *LTS* into the use of Corpus Query Language (CQL) when searching testimonies of Holocaust survivors. This tutorial was made by following the tutorial on the website of Sketch Engine and BlackLab Engine. Please bearn in mind that not all functionalities discussed on these websites can be used with LTS. This tutorial contains CQL functionalities that work with *LTS*."
   ]
  },
  {
   "cell_type": "code",
   "execution_count": 3,
   "metadata": {},
   "outputs": [],
   "source": [
    "import os,sys,inspect\n",
    "current_dir = os.path.dirname(os.path.abspath(inspect.getfile(inspect.currentframe())))\n",
    "parent_dir = os.path.dirname(current_dir)\n",
    "sys.path.insert(0, parent_dir)\n",
    "from Utilities import blacklab as bl"
   ]
  },
  {
   "cell_type": "markdown",
   "metadata": {},
   "source": [
    "## Basic Syntax"
   ]
  },
  {
   "cell_type": "markdown",
   "metadata": {},
   "source": [
    "To activate a CQL search on LTS, you need to use its special syntax. In CQL every word has to be between a pair of square brackets."
   ]
  },
  {
   "cell_type": "markdown",
   "metadata": {},
   "source": [
    "You can search directly for a given word:"
   ]
  },
  {
   "cell_type": "markdown",
   "metadata": {},
   "source": [
    "```[\"murderers\"]```"
   ]
  },
  {
   "cell_type": "code",
   "execution_count": 9,
   "metadata": {},
   "outputs": [],
   "source": [
    "query = '[\"murderers\"]'"
   ]
  },
  {
   "cell_type": "code",
   "execution_count": 10,
   "metadata": {},
   "outputs": [],
   "source": [
    "response = bl.search_blacklab(query,window=10,lemma=False)"
   ]
  },
  {
   "cell_type": "markdown",
   "metadata": {},
   "source": [
    "Print the first result"
   ]
  },
  {
   "cell_type": "code",
   "execution_count": 11,
   "metadata": {},
   "outputs": [
    {
     "name": "stdout",
     "output_type": "stream",
     "text": [
      ", such a high-cultured people became like barbarians , like murderers , all of them to listen to one man , \n"
     ]
    }
   ],
   "source": [
    "print (response[0]['match_word'])"
   ]
  },
  {
   "cell_type": "markdown",
   "metadata": {},
   "source": [
    "### Attention: the word to be searched for has to be between double quotation marks "
   ]
  },
  {
   "cell_type": "markdown",
   "metadata": {},
   "source": [
    "The following query will not produce any result:"
   ]
  },
  {
   "cell_type": "markdown",
   "metadata": {},
   "source": [
    "```['murderers']```"
   ]
  },
  {
   "cell_type": "markdown",
   "metadata": {},
   "source": [
    "## Attributes"
   ]
  },
  {
   "cell_type": "markdown",
   "metadata": {},
   "source": [
    "Attributes on the one hand enable the search for specific type of words. Consider the following example that finds all gerunds:"
   ]
  },
  {
   "cell_type": "markdown",
   "metadata": {},
   "source": [
    "```[pos=\"VBG\"]```"
   ]
  },
  {
   "cell_type": "code",
   "execution_count": 19,
   "metadata": {},
   "outputs": [],
   "source": [
    "query = '[pos=\"VBG\"]'"
   ]
  },
  {
   "cell_type": "code",
   "execution_count": 20,
   "metadata": {},
   "outputs": [],
   "source": [
    "response = bl.search_blacklab(query,window=10,lemma=False)"
   ]
  },
  {
   "cell_type": "markdown",
   "metadata": {},
   "source": [
    "Print the first result"
   ]
  },
  {
   "cell_type": "code",
   "execution_count": 21,
   "metadata": {},
   "outputs": [
    {
     "name": "stdout",
     "output_type": "stream",
     "text": [
      "INTERVIEWER 1 : We 're going to go back into the past . Where are you \n"
     ]
    }
   ],
   "source": [
    "print (response[0]['match_word'])"
   ]
  },
  {
   "cell_type": "markdown",
   "metadata": {},
   "source": [
    "The attribute we used is *pos* and the value of the attribute is *VBG*. The general pattern is this:"
   ]
  },
  {
   "cell_type": "markdown",
   "metadata": {},
   "source": [
    "```[attribute=\"value\"]```"
   ]
  },
  {
   "cell_type": "markdown",
   "metadata": {},
   "source": [
    "The corpus underlying *LTS* has three attributes:\n",
    "- *pos*: part of speech or grammatical category of a word\n",
    "-*lemma*: the dictionary form of a word\n",
    "-*word*: the actual word form "
   ]
  },
  {
   "cell_type": "markdown",
   "metadata": {},
   "source": [
    "### The *pos* attribute"
   ]
  },
  {
   "cell_type": "markdown",
   "metadata": {},
   "source": [
    "This attribute helps define the grammatical category of a word that we are searching for. The grammatical categories are the categories defined by the Penn Treebank and they can be downloaded from here."
   ]
  },
  {
   "cell_type": "markdown",
   "metadata": {},
   "source": [
    "### The lemma attribute"
   ]
  },
  {
   "cell_type": "markdown",
   "metadata": {},
   "source": [
    "This attribute enables the search based on the dictionary form of a word. For instance, the following query finds all occurrences of both *murderer* and *murderers* since the dictionary form is murderer."
   ]
  },
  {
   "cell_type": "markdown",
   "metadata": {},
   "source": [
    "```[lemma=\"murderer\"]```"
   ]
  },
  {
   "cell_type": "markdown",
   "metadata": {},
   "source": [
    "### The *word* attribute"
   ]
  },
  {
   "cell_type": "markdown",
   "metadata": {},
   "source": [
    "By contrast, the following pattern finds only those occurrences where *murderer* is used in the plural form."
   ]
  },
  {
   "cell_type": "markdown",
   "metadata": {},
   "source": [
    "```[word=\"murderers\"]```"
   ]
  },
  {
   "cell_type": "markdown",
   "metadata": {},
   "source": [
    "### Attention: the default attribute is *word*"
   ]
  },
  {
   "cell_type": "markdown",
   "metadata": {},
   "source": [
    "If you do not define any attribute then it is taken as the word attribute; the following query is the same as above:"
   ]
  },
  {
   "cell_type": "markdown",
   "metadata": {},
   "source": [
    "```[\"murderers\"]```"
   ]
  },
  {
   "cell_type": "markdown",
   "metadata": {},
   "source": [
    "## The combination of attributes"
   ]
  },
  {
   "cell_type": "markdown",
   "metadata": {},
   "source": [
    "*Murders* might be a verb (\"the guard murders someone\") or a noun (\"Murders often happened\"). By combining the *pos* attribute with the *word* attribute you can find these cases."
   ]
  },
  {
   "cell_type": "markdown",
   "metadata": {},
   "source": [
    "```[pos=\"NNS\" & word=\"murders\"]```"
   ]
  },
  {
   "cell_type": "code",
   "execution_count": 45,
   "metadata": {},
   "outputs": [],
   "source": [
    "query = '[pos=\"NNS\" & word=\"murders\"]'"
   ]
  },
  {
   "cell_type": "code",
   "execution_count": 46,
   "metadata": {},
   "outputs": [],
   "source": [
    "response = bl.search_blacklab(query,window=10,lemma=False)"
   ]
  },
  {
   "cell_type": "markdown",
   "metadata": {},
   "source": [
    "Print the first result"
   ]
  },
  {
   "cell_type": "code",
   "execution_count": 47,
   "metadata": {},
   "outputs": [
    {
     "name": "stdout",
     "output_type": "stream",
     "text": [
      "the lagers in order to become -- there have been murders . One case , one guy , you know , \n"
     ]
    }
   ],
   "source": [
    "print (response[0]['match_word'])"
   ]
  },
  {
   "cell_type": "markdown",
   "metadata": {},
   "source": [
    "Different attributes of the same word have to be between the same square brackets and they can be combined with the following boolean operators:\n",
    "\n",
    "-& (ampersand) = AND\n",
    "\n",
    "-| (pipe) = OR\n",
    "\n",
    "-! (exclamation mark) = NOT"
   ]
  },
  {
   "cell_type": "markdown",
   "metadata": {},
   "source": [
    "## The use of regular expression like syntax to define attributes"
   ]
  },
  {
   "cell_type": "code",
   "execution_count": null,
   "metadata": {},
   "outputs": [],
   "source": [
    "When defining an attribute value, you can use regular expression like syntax."
   ]
  },
  {
   "cell_type": "markdown",
   "metadata": {},
   "source": [
    "The dot (.) is wildcard character that matches any character. Consider the following example. You want to match adverbs both in the superlative and the comparative form. They are signed by the pos categories *RBR* and *RBS*. You can search for them with the following two different queries:"
   ]
  },
  {
   "cell_type": "markdown",
   "metadata": {},
   "source": [
    "```[pos=\"RBR\"]```\n",
    "```[pos=\"RBS\"]```"
   ]
  },
  {
   "cell_type": "code",
   "execution_count": null,
   "metadata": {},
   "outputs": [],
   "source": [
    "Or you can combine the two queries:"
   ]
  },
  {
   "cell_type": "markdown",
   "metadata": {},
   "source": [
    "```[pos=\"RB.\"]```"
   ]
  },
  {
   "cell_type": "markdown",
   "metadata": {},
   "source": [
    "The number of wildcard characters can be also defined. Consider the following example. You want to match all verbs in the corpus. The Penn treebank distinguishes the following subcategories of verbs:\n",
    "\n",
    "- VB \tVerb, base form\n",
    "- VBD \tVerb, past tense\n",
    "- VBG \tVerb, gerund or present participle\n",
    "- VBN \tVerb, past participle\n",
    "- VBP \tVerb, non-3rd person singular present\n",
    "- VBZ \tVerb, 3rd person singular present\n",
    "\n",
    "One can match them with the following way:\n",
    "\n",
    "```[pos=\"V.*\"]```"
   ]
  },
  {
   "cell_type": "markdown",
   "metadata": {},
   "source": [
    "The asterisk (*) tells that *V* can be followed any number of wildcard characters; hence it will match both *VB* and *VBD*."
   ]
  },
  {
   "cell_type": "markdown",
   "metadata": {},
   "source": [
    "The following regular expression operators are supported: +, *, ?, {n}, {n,m}\n",
    "See some examples below."
   ]
  },
  {
   "cell_type": "markdown",
   "metadata": {},
   "source": [
    "## Escaping special characters"
   ]
  },
  {
   "cell_type": "markdown",
   "metadata": {},
   "source": [
    "Consider the problem that you want to find dots in testimonies, i.e. you want to use dots in the literal sense and not as a wildcard characters. To do this you need to escape the dot with the \\ operator."
   ]
  },
  {
   "cell_type": "markdown",
   "metadata": {},
   "source": [
    "```[word=\"Mr\\.\"]```"
   ]
  },
  {
   "cell_type": "code",
   "execution_count": 52,
   "metadata": {},
   "outputs": [],
   "source": [
    "query = '[word=\"Mr\\.\"]'"
   ]
  },
  {
   "cell_type": "code",
   "execution_count": 53,
   "metadata": {},
   "outputs": [],
   "source": [
    "response = bl.search_blacklab(query,window=10,lemma=False)"
   ]
  },
  {
   "cell_type": "markdown",
   "metadata": {},
   "source": [
    "Print the first result"
   ]
  },
  {
   "cell_type": "code",
   "execution_count": 54,
   "metadata": {},
   "outputs": [
    {
     "name": "stdout",
     "output_type": "stream",
     "text": [
      "about religion , nationalities . We better be careful about Mr. So-and-so , because he is of German descent . And \n"
     ]
    }
   ],
   "source": [
    "print (response[0]['match_word'])"
   ]
  },
  {
   "cell_type": "markdown",
   "metadata": {},
   "source": [
    "## Case sensitivity:"
   ]
  },
  {
   "cell_type": "markdown",
   "metadata": {},
   "source": [
    "The case insensitity matching is currently used. The following query will therefore match both *CRYING* and *crying*."
   ]
  },
  {
   "cell_type": "markdown",
   "metadata": {},
   "source": [
    "```[word=\"crying\"]```"
   ]
  },
  {
   "cell_type": "markdown",
   "metadata": {},
   "source": [
    "To enforce case sensitivity, you need to begin the attribute value with \"(?-i)\"."
   ]
  },
  {
   "cell_type": "markdown",
   "metadata": {},
   "source": [
    "```[word=\"(?-i)crying\"]```"
   ]
  },
  {
   "cell_type": "markdown",
   "metadata": {},
   "source": [
    "## Some further examples for the use of attribues"
   ]
  },
  {
   "cell_type": "markdown",
   "metadata": {},
   "source": [
    "Find all words beginning with *anti*"
   ]
  },
  {
   "cell_type": "markdown",
   "metadata": {},
   "source": [
    "```[lemma=\"anti.*\"]```"
   ]
  },
  {
   "cell_type": "markdown",
   "metadata": {},
   "source": [
    "Find all words ending with *ism*"
   ]
  },
  {
   "cell_type": "markdown",
   "metadata": {},
   "source": [
    "```[lemma=\".*ism\"]```"
   ]
  },
  {
   "cell_type": "markdown",
   "metadata": {},
   "source": [
    "Find both *labour* and *labor* by making u optional"
   ]
  },
  {
   "cell_type": "markdown",
   "metadata": {},
   "source": [
    "```[lemma=\"labou?r\"]```"
   ]
  },
  {
   "cell_type": "markdown",
   "metadata": {},
   "source": [
    "Find both *casa* and *cassa* by using a regex range operator"
   ]
  },
  {
   "cell_type": "markdown",
   "metadata": {},
   "source": [
    "```[lemma=\"cas{0,2}a\"]```"
   ]
  },
  {
   "cell_type": "markdown",
   "metadata": {},
   "source": [
    "Find both *specialize* and *specialise* by using a regex or (|) operator"
   ]
  },
  {
   "cell_type": "markdown",
   "metadata": {},
   "source": [
    "```[lemma=\"speciali(s|z)e\"]```"
   ]
  },
  {
   "cell_type": "code",
   "execution_count": 115,
   "metadata": {},
   "outputs": [],
   "source": [
    "query = '[word=\"kill\"]'"
   ]
  },
  {
   "cell_type": "code",
   "execution_count": 116,
   "metadata": {},
   "outputs": [],
   "source": [
    "response = bl.search_blacklab(query,window=0,lemma=False)"
   ]
  },
  {
   "cell_type": "markdown",
   "metadata": {},
   "source": [
    "Print the first result"
   ]
  },
  {
   "cell_type": "code",
   "execution_count": 117,
   "metadata": {},
   "outputs": [
    {
     "name": "stdout",
     "output_type": "stream",
     "text": [
      "kill \n"
     ]
    }
   ],
   "source": [
    "print (response[1]['match_word'])"
   ]
  },
  {
   "cell_type": "markdown",
   "metadata": {},
   "source": [
    "## Sequence matching"
   ]
  },
  {
   "cell_type": "markdown",
   "metadata": {},
   "source": [
    "With CQL you can match a sequence of words; with the following query you can find the sequence *big man*"
   ]
  },
  {
   "cell_type": "markdown",
   "metadata": {},
   "source": [
    "``` [\"big\"] [\"man\"] ```"
   ]
  },
  {
   "cell_type": "markdown",
   "metadata": {},
   "source": [
    "### Sequences with optional in-between words"
   ]
  },
  {
   "cell_type": "markdown",
   "metadata": {},
   "source": [
    "You might want to match both *she was very nice* and *she was nice*. You can make *very* an optional element of the sequence with the ? operator"
   ]
  },
  {
   "cell_type": "markdown",
   "metadata": {},
   "source": [
    "``` [\"she\"] [\"was\"] [\"very\"]? [\"nice\"] ```"
   ]
  },
  {
   "cell_type": "code",
   "execution_count": 137,
   "metadata": {},
   "outputs": [],
   "source": [
    "query = '[\"she\"] [\"was\"] [\"very\"]? [\"nice\"]'"
   ]
  },
  {
   "cell_type": "code",
   "execution_count": 138,
   "metadata": {},
   "outputs": [],
   "source": [
    "response = bl.search_blacklab(query,window=0,lemma=False)"
   ]
  },
  {
   "cell_type": "markdown",
   "metadata": {},
   "source": [
    "Print the first result"
   ]
  },
  {
   "cell_type": "code",
   "execution_count": 140,
   "metadata": {},
   "outputs": [
    {
     "name": "stdout",
     "output_type": "stream",
     "text": [
      "She was nice \n"
     ]
    }
   ],
   "source": [
    "print (response[0]['match_word'])"
   ]
  },
  {
   "cell_type": "markdown",
   "metadata": {},
   "source": [
    "### Sequences with distance between two words"
   ]
  },
  {
   "cell_type": "markdown",
   "metadata": {},
   "source": [
    "Consider the following example; you want to find moments when one is recalling the experience of her or his mother crying. In this case *mother* is not necessarily followed by *crying*. There can be words between them (*my mother was really really crying*). To tackle this problem, we can define a sequence starting with *mother*, ending with *cry*, and with a number of other words in-between."
   ]
  },
  {
   "cell_type": "markdown",
   "metadata": {},
   "source": [
    "```[lemma=\"mother\"] [\".\"]{0,5} [lemma=\"cry\"] ```"
   ]
  },
  {
   "cell_type": "markdown",
   "metadata": {},
   "source": [
    "The query above uses the regex range operator; it declares that there can be maximum 5 words and minimum 0 words between *mother* and *cry*."
   ]
  },
  {
   "cell_type": "markdown",
   "metadata": {},
   "source": [
    "Suppose that you want to know all possible adjectives with *Jews*. You can define this as a CQL query:"
   ]
  },
  {
   "cell_type": "markdown",
   "metadata": {},
   "source": [
    "```[word=\"an\" | word=\"the\" ] [pos=\"JJ\"]+ [lemma=\"Jew\"]```"
   ]
  },
  {
   "cell_type": "markdown",
   "metadata": {},
   "source": [
    "The plus sign after [pos=“JJ”] means that the adjective should occur one or more times (similarly, * means “zero or more times”, and ? means “zero or one time”)."
   ]
  },
  {
   "cell_type": "markdown",
   "metadata": {},
   "source": [
    "### Grouping sequences of words"
   ]
  },
  {
   "cell_type": "markdown",
   "metadata": {},
   "source": [
    "By placing a sequence of words between parenthesis, you can form groups and apply operators to the entire group. The following patterns for instance finds the sequence *the average Jew ,the small Jew*"
   ]
  },
  {
   "cell_type": "markdown",
   "metadata": {},
   "source": [
    "```([word=\"an\" | word=\"the\" ] [pos=\"JJ\"]+ [lemma=\"Jew\"] []){2,3}```"
   ]
  },
  {
   "cell_type": "code",
   "execution_count": 149,
   "metadata": {},
   "outputs": [
    {
     "name": "stdout",
     "output_type": "stream",
     "text": [
      "the average Jew , the small Jew , \n"
     ]
    }
   ],
   "source": [
    "query = '([word=\"an\" | word=\"the\" ] [pos=\"JJ\"]+ [lemma=\"Jew\"] []){2,3}'\n",
    "response = bl.search_blacklab(query,window=0,lemma=False)\n",
    "print (response[10]['match_word'])"
   ]
  },
  {
   "cell_type": "markdown",
   "metadata": {},
   "source": [
    "###  Relating words to one another"
   ]
  },
  {
   "cell_type": "markdown",
   "metadata": {},
   "source": [
    "Consider that you want to find the sequence *step by step*. You need to define a sequence in which the first and the last elements are the same:"
   ]
  },
  {
   "cell_type": "markdown",
   "metadata": {},
   "source": [
    "```A:[] \"by\" B:[] :: A.word = B.word```"
   ]
  },
  {
   "cell_type": "code",
   "execution_count": 154,
   "metadata": {},
   "outputs": [
    {
     "name": "stdout",
     "output_type": "stream",
     "text": [
      "one by one \n"
     ]
    }
   ],
   "source": [
    "query = 'A:[] \"by\" B:[] :: A.word = B.word'\n",
    "response = bl.search_blacklab(query,window=0,lemma=False)\n",
    "print (response[11]['match_word'])"
   ]
  },
  {
   "cell_type": "markdown",
   "metadata": {},
   "source": [
    "## Finding entire sentences"
   ]
  },
  {
   "cell_type": "markdown",
   "metadata": {},
   "source": [
    "CQL enables the finding of entire sentences based on various criteria. You can define the content of a sentence by declaring what the sentence contains. For example, the following query finds a sentence in which baker occurs."
   ]
  },
  {
   "cell_type": "markdown",
   "metadata": {},
   "source": [
    "```<s/> containing \"baker\"```"
   ]
  },
  {
   "cell_type": "code",
   "execution_count": 158,
   "metadata": {},
   "outputs": [
    {
     "name": "stdout",
     "output_type": "stream",
     "text": [
      "INTERVIEWER : You were a baker at that time ? \n"
     ]
    }
   ],
   "source": [
    "query = '<s/> containing \"baker\"'\n",
    "response = bl.search_blacklab(query,window=0,lemma=False)\n",
    "print (response[11]['match_word'])"
   ]
  },
  {
   "cell_type": "markdown",
   "metadata": {},
   "source": [
    "You can also define the beginning and the end of the sentence by using either \\<s\\> or \\<\\/s\\>. For instance, the following query finds all sentences beginngin with *no*."
   ]
  },
  {
   "cell_type": "markdown",
   "metadata": {},
   "source": [
    "```<s> \"no\"```"
   ]
  },
  {
   "cell_type": "code",
   "execution_count": 160,
   "metadata": {},
   "outputs": [
    {
     "name": "stdout",
     "output_type": "stream",
     "text": [
      "No \n"
     ]
    }
   ],
   "source": [
    "query = '<s> \"no\"'\n",
    "response = bl.search_blacklab(query,window=0,lemma=False)\n",
    "print (response[11]['match_word'])"
   ]
  }
 ],
 "metadata": {
  "kernelspec": {
   "display_name": "base",
   "language": "python",
   "name": "base"
  },
  "language_info": {
   "codemirror_mode": {
    "name": "ipython",
    "version": 3
   },
   "file_extension": ".py",
   "mimetype": "text/x-python",
   "name": "python",
   "nbconvert_exporter": "python",
   "pygments_lexer": "ipython3",
   "version": "3.7.2"
  }
 },
 "nbformat": 4,
 "nbformat_minor": 2
}
